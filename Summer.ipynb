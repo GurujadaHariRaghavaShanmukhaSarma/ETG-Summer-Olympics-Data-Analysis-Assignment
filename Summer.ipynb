{
 "cells": [
  {
   "cell_type": "markdown",
   "id": "ac668304",
   "metadata": {},
   "source": [
    "# Summer Olympics Data Analysis Assignment"
   ]
  },
  {
   "cell_type": "code",
   "execution_count": 112,
   "id": "cae8f910",
   "metadata": {},
   "outputs": [],
   "source": [
    "#importing Libraries\n",
    "import pandas as pd\n",
    "import numpy as np\n",
    "import matplotlib.pyplot as pt\n",
    "df=pd.read_csv('summer.csv')                                                          #reading 'summer.csv' file"
   ]
  },
  {
   "cell_type": "code",
   "execution_count": 113,
   "id": "3f04ea27",
   "metadata": {},
   "outputs": [
    {
     "data": {
      "text/html": [
       "<div>\n",
       "<style scoped>\n",
       "    .dataframe tbody tr th:only-of-type {\n",
       "        vertical-align: middle;\n",
       "    }\n",
       "\n",
       "    .dataframe tbody tr th {\n",
       "        vertical-align: top;\n",
       "    }\n",
       "\n",
       "    .dataframe thead th {\n",
       "        text-align: right;\n",
       "    }\n",
       "</style>\n",
       "<table border=\"1\" class=\"dataframe\">\n",
       "  <thead>\n",
       "    <tr style=\"text-align: right;\">\n",
       "      <th></th>\n",
       "      <th>Year</th>\n",
       "      <th>City</th>\n",
       "      <th>Sport</th>\n",
       "      <th>Discipline</th>\n",
       "      <th>Athlete</th>\n",
       "      <th>Country</th>\n",
       "      <th>Gender</th>\n",
       "      <th>Event</th>\n",
       "      <th>Medal</th>\n",
       "    </tr>\n",
       "  </thead>\n",
       "  <tbody>\n",
       "    <tr>\n",
       "      <th>0</th>\n",
       "      <td>1896</td>\n",
       "      <td>Athens</td>\n",
       "      <td>Aquatics</td>\n",
       "      <td>Swimming</td>\n",
       "      <td>HAJOS, Alfred</td>\n",
       "      <td>HUN</td>\n",
       "      <td>Men</td>\n",
       "      <td>100M Freestyle</td>\n",
       "      <td>Gold</td>\n",
       "    </tr>\n",
       "    <tr>\n",
       "      <th>1</th>\n",
       "      <td>1896</td>\n",
       "      <td>Athens</td>\n",
       "      <td>Aquatics</td>\n",
       "      <td>Swimming</td>\n",
       "      <td>HERSCHMANN, Otto</td>\n",
       "      <td>AUT</td>\n",
       "      <td>Men</td>\n",
       "      <td>100M Freestyle</td>\n",
       "      <td>Silver</td>\n",
       "    </tr>\n",
       "    <tr>\n",
       "      <th>2</th>\n",
       "      <td>1896</td>\n",
       "      <td>Athens</td>\n",
       "      <td>Aquatics</td>\n",
       "      <td>Swimming</td>\n",
       "      <td>DRIVAS, Dimitrios</td>\n",
       "      <td>GRE</td>\n",
       "      <td>Men</td>\n",
       "      <td>100M Freestyle For Sailors</td>\n",
       "      <td>Bronze</td>\n",
       "    </tr>\n",
       "    <tr>\n",
       "      <th>3</th>\n",
       "      <td>1896</td>\n",
       "      <td>Athens</td>\n",
       "      <td>Aquatics</td>\n",
       "      <td>Swimming</td>\n",
       "      <td>MALOKINIS, Ioannis</td>\n",
       "      <td>GRE</td>\n",
       "      <td>Men</td>\n",
       "      <td>100M Freestyle For Sailors</td>\n",
       "      <td>Gold</td>\n",
       "    </tr>\n",
       "    <tr>\n",
       "      <th>4</th>\n",
       "      <td>1896</td>\n",
       "      <td>Athens</td>\n",
       "      <td>Aquatics</td>\n",
       "      <td>Swimming</td>\n",
       "      <td>CHASAPIS, Spiridon</td>\n",
       "      <td>GRE</td>\n",
       "      <td>Men</td>\n",
       "      <td>100M Freestyle For Sailors</td>\n",
       "      <td>Silver</td>\n",
       "    </tr>\n",
       "    <tr>\n",
       "      <th>...</th>\n",
       "      <td>...</td>\n",
       "      <td>...</td>\n",
       "      <td>...</td>\n",
       "      <td>...</td>\n",
       "      <td>...</td>\n",
       "      <td>...</td>\n",
       "      <td>...</td>\n",
       "      <td>...</td>\n",
       "      <td>...</td>\n",
       "    </tr>\n",
       "    <tr>\n",
       "      <th>31160</th>\n",
       "      <td>2012</td>\n",
       "      <td>London</td>\n",
       "      <td>Wrestling</td>\n",
       "      <td>Wrestling Freestyle</td>\n",
       "      <td>JANIKOWSKI, Damian</td>\n",
       "      <td>POL</td>\n",
       "      <td>Men</td>\n",
       "      <td>Wg 84 KG</td>\n",
       "      <td>Bronze</td>\n",
       "    </tr>\n",
       "    <tr>\n",
       "      <th>31161</th>\n",
       "      <td>2012</td>\n",
       "      <td>London</td>\n",
       "      <td>Wrestling</td>\n",
       "      <td>Wrestling Freestyle</td>\n",
       "      <td>REZAEI, Ghasem Gholamreza</td>\n",
       "      <td>IRI</td>\n",
       "      <td>Men</td>\n",
       "      <td>Wg 96 KG</td>\n",
       "      <td>Gold</td>\n",
       "    </tr>\n",
       "    <tr>\n",
       "      <th>31162</th>\n",
       "      <td>2012</td>\n",
       "      <td>London</td>\n",
       "      <td>Wrestling</td>\n",
       "      <td>Wrestling Freestyle</td>\n",
       "      <td>TOTROV, Rustam</td>\n",
       "      <td>RUS</td>\n",
       "      <td>Men</td>\n",
       "      <td>Wg 96 KG</td>\n",
       "      <td>Silver</td>\n",
       "    </tr>\n",
       "    <tr>\n",
       "      <th>31163</th>\n",
       "      <td>2012</td>\n",
       "      <td>London</td>\n",
       "      <td>Wrestling</td>\n",
       "      <td>Wrestling Freestyle</td>\n",
       "      <td>ALEKSANYAN, Artur</td>\n",
       "      <td>ARM</td>\n",
       "      <td>Men</td>\n",
       "      <td>Wg 96 KG</td>\n",
       "      <td>Bronze</td>\n",
       "    </tr>\n",
       "    <tr>\n",
       "      <th>31164</th>\n",
       "      <td>2012</td>\n",
       "      <td>London</td>\n",
       "      <td>Wrestling</td>\n",
       "      <td>Wrestling Freestyle</td>\n",
       "      <td>LIDBERG, Jimmy</td>\n",
       "      <td>SWE</td>\n",
       "      <td>Men</td>\n",
       "      <td>Wg 96 KG</td>\n",
       "      <td>Bronze</td>\n",
       "    </tr>\n",
       "  </tbody>\n",
       "</table>\n",
       "<p>31165 rows × 9 columns</p>\n",
       "</div>"
      ],
      "text/plain": [
       "       Year    City      Sport           Discipline  \\\n",
       "0      1896  Athens   Aquatics             Swimming   \n",
       "1      1896  Athens   Aquatics             Swimming   \n",
       "2      1896  Athens   Aquatics             Swimming   \n",
       "3      1896  Athens   Aquatics             Swimming   \n",
       "4      1896  Athens   Aquatics             Swimming   \n",
       "...     ...     ...        ...                  ...   \n",
       "31160  2012  London  Wrestling  Wrestling Freestyle   \n",
       "31161  2012  London  Wrestling  Wrestling Freestyle   \n",
       "31162  2012  London  Wrestling  Wrestling Freestyle   \n",
       "31163  2012  London  Wrestling  Wrestling Freestyle   \n",
       "31164  2012  London  Wrestling  Wrestling Freestyle   \n",
       "\n",
       "                         Athlete Country Gender                       Event  \\\n",
       "0                  HAJOS, Alfred     HUN    Men              100M Freestyle   \n",
       "1               HERSCHMANN, Otto     AUT    Men              100M Freestyle   \n",
       "2              DRIVAS, Dimitrios     GRE    Men  100M Freestyle For Sailors   \n",
       "3             MALOKINIS, Ioannis     GRE    Men  100M Freestyle For Sailors   \n",
       "4             CHASAPIS, Spiridon     GRE    Men  100M Freestyle For Sailors   \n",
       "...                          ...     ...    ...                         ...   \n",
       "31160         JANIKOWSKI, Damian     POL    Men                    Wg 84 KG   \n",
       "31161  REZAEI, Ghasem Gholamreza     IRI    Men                    Wg 96 KG   \n",
       "31162             TOTROV, Rustam     RUS    Men                    Wg 96 KG   \n",
       "31163          ALEKSANYAN, Artur     ARM    Men                    Wg 96 KG   \n",
       "31164             LIDBERG, Jimmy     SWE    Men                    Wg 96 KG   \n",
       "\n",
       "        Medal  \n",
       "0        Gold  \n",
       "1      Silver  \n",
       "2      Bronze  \n",
       "3        Gold  \n",
       "4      Silver  \n",
       "...       ...  \n",
       "31160  Bronze  \n",
       "31161    Gold  \n",
       "31162  Silver  \n",
       "31163  Bronze  \n",
       "31164  Bronze  \n",
       "\n",
       "[31165 rows x 9 columns]"
      ]
     },
     "execution_count": 113,
     "metadata": {},
     "output_type": "execute_result"
    }
   ],
   "source": [
    "df                                                                                        "
   ]
  },
  {
   "cell_type": "markdown",
   "id": "6130171f",
   "metadata": {},
   "source": [
    "### 1. In how many cities Summer Olympics is held so far?"
   ]
  },
  {
   "cell_type": "code",
   "execution_count": 114,
   "id": "cd6dc412",
   "metadata": {},
   "outputs": [],
   "source": [
    "list1=[]                                                                         #creating an empty list\n",
    "for City in df['City'].unique():                         #Getting unique city name for every iteration in the 'City' column\n",
    "    list1.append([City , len(df[df['City']  == City])])  #Appending city name and how many times Summer Olympics held in this -\n",
    "                                                         #city to the list1"
   ]
  },
  {
   "cell_type": "code",
   "execution_count": 115,
   "id": "abe15664",
   "metadata": {},
   "outputs": [
    {
     "data": {
      "text/plain": [
       "[['Athens', 2149],\n",
       " ['Paris', 1396],\n",
       " ['St Louis', 470],\n",
       " ['London', 3567],\n",
       " ['Stockholm', 885],\n",
       " ['Antwerp', 1298],\n",
       " ['Amsterdam', 710],\n",
       " ['Los Angeles', 2074],\n",
       " ['Berlin', 875],\n",
       " ['Helsinki', 889],\n",
       " ['Melbourne / Stockholm', 885],\n",
       " ['Rome', 882],\n",
       " ['Tokyo', 1010],\n",
       " ['Mexico', 1031],\n",
       " ['Munich', 1185],\n",
       " ['Montreal', 1305],\n",
       " ['Moscow', 1387],\n",
       " ['Seoul', 1546],\n",
       " ['Barcelona', 1705],\n",
       " ['Atlanta', 1859],\n",
       " ['Sydney', 2015],\n",
       " ['Beijing', 2042]]"
      ]
     },
     "execution_count": 115,
     "metadata": {},
     "output_type": "execute_result"
    }
   ],
   "source": [
    "list1"
   ]
  },
  {
   "cell_type": "code",
   "execution_count": 116,
   "id": "6b59dd42",
   "metadata": {},
   "outputs": [
    {
     "name": "stdout",
     "output_type": "stream",
     "text": [
      "So far in 22 cities Summer Olympics were held\n"
     ]
    }
   ],
   "source": [
    "print(\"So far in {0} cities Summer Olympics were held\".format(len(list1)))  #printing the total number of cities in which - \n",
    "                                                                            # summer olympics held so far"
   ]
  },
  {
   "cell_type": "markdown",
   "id": "13bb3b63",
   "metadata": {},
   "source": [
    "### 2. Which sport is having most number of gold medals so far? (Top 5)"
   ]
  },
  {
   "cell_type": "code",
   "execution_count": 117,
   "id": "dddfa94d",
   "metadata": {},
   "outputs": [
    {
     "name": "stdout",
     "output_type": "stream",
     "text": [
      "[['Aquatics', 1421], ['Athletics', 1215], ['Cycling', 371], ['Fencing', 552], ['Gymnastics', 820], ['Shooting', 384], ['Tennis', 92], ['Weightlifting', 200], ['Wrestling', 391], ['Archery', 126], ['Basque Pelota', 2], ['Cricket', 12], ['Croquet', 4], ['Equestrian', 320], ['Football', 503], ['Golf', 13], ['Polo', 22], ['Rowing', 890], ['Rugby', 78], ['Sailing', 412], ['Tug of War', 36], ['Boxing', 239], ['Lacrosse', 28], ['Roque', 1], ['Hockey', 486], ['Jeu de paume', 1], ['Rackets', 3], ['Skating', 9], ['Water Motorsports', 5], ['Modern Pentathlon', 60], ['Ice Hockey', 8], ['Basketball', 342], ['Canoe / Kayak', 334], ['Handball', 321], ['Judo', 123], ['Volleyball', 332], ['Table Tennis', 46], ['Badminton', 46], ['Baseball', 111], ['Softball', 60], ['Taekwondo', 32], ['Triathlon', 8], ['Canoe', 27]]\n"
     ]
    }
   ],
   "source": [
    "list1=[]\n",
    "for Sport in df['Sport'].unique():                        #Getting unique sport name for every iteration in the 'Sport' column            \n",
    "    newdf=df[df['Sport']==Sport]                        #Creating new data frame having only one sport coming in every iteration\n",
    "    list1.append([Sport,len(newdf[newdf['Medal']=='Gold'])]) #Appending sport and number of gold medals for that particular -\n",
    "print(list1)                                                 #sport to the list1"
   ]
  },
  {
   "cell_type": "code",
   "execution_count": 118,
   "id": "a327ec80",
   "metadata": {},
   "outputs": [
    {
     "data": {
      "text/plain": [
       "<AxesSubplot:xlabel='Sport'>"
      ]
     },
     "execution_count": 118,
     "metadata": {},
     "output_type": "execute_result"
    },
    {
     "data": {
      "image/png": "[encoded data removed]",
      "text/plain": [
       "<Figure size 720x360 with 1 Axes>"
      ]
     },
     "metadata": {
      "needs_background": "light"
     },
     "output_type": "display_data"
    }
   ],
   "source": [
    "pd.DataFrame(list1,columns=['Sport','Gold Medals']).sort_values(by='Gold Medals',ascending=False).head().plot(x= 'Sport',\n",
    "                                                                                    y= 'Gold Medals',kind='bar',figsize=(10,5))\n",
    "#Coverting list to dataframe,naming the two columns as 'Sport' and 'Gold Medals',sorting based on number of Gold Medals in the\n",
    "#descending order,considering only top five data,plotting as bar graph containing 'Sport' in x-axis and 'Gold Medals' in y-axis\n",
    "#by mentioning figure size(can be changed)"
   ]
  },
  {
   "cell_type": "markdown",
   "id": "7dca3837",
   "metadata": {},
   "source": [
    "### 3.Which sport is having most number of medals so far? (top 5)"
   ]
  },
  {
   "cell_type": "code",
   "execution_count": 119,
   "id": "4ff804d7",
   "metadata": {},
   "outputs": [
    {
     "name": "stdout",
     "output_type": "stream",
     "text": [
      "[['Aquatics', 4170], ['Athletics', 3638], ['Cycling', 1105], ['Fencing', 1613], ['Gymnastics', 2307], ['Shooting', 1150], ['Tennis', 296], ['Weightlifting', 593], ['Wrestling', 1212], ['Archery', 329], ['Basque Pelota', 4], ['Cricket', 24], ['Croquet', 8], ['Equestrian', 939], ['Football', 1497], ['Golf', 30], ['Polo', 66], ['Rowing', 2667], ['Rugby', 192], ['Sailing', 1109], ['Tug of War', 94], ['Boxing', 894], ['Lacrosse', 59], ['Roque', 3], ['Hockey', 1422], ['Jeu de paume', 3], ['Rackets', 10], ['Skating', 27], ['Water Motorsports', 5], ['Modern Pentathlon', 180], ['Ice Hockey', 27], ['Basketball', 1012], ['Canoe / Kayak', 1002], ['Handball', 973], ['Judo', 491], ['Volleyball', 994], ['Table Tennis', 144], ['Badminton', 144], ['Baseball', 335], ['Softball', 180], ['Taekwondo', 112], ['Triathlon', 24], ['Canoe', 81]]\n"
     ]
    }
   ],
   "source": [
    "list1=[]\n",
    "for Sport in df['Sport'].unique():               #Getting unique sport name for every iteration in the 'Sport' column \n",
    "    newdf=df[df['Sport']==Sport]                 #Creating new data frame having only one sport coming in every iteration\n",
    "    list1.append([Sport,len(newdf['Medal'])])    #Appending Sport and number of medals for that particular sport to the list1\n",
    "print(list1)"
   ]
  },
  {
   "cell_type": "code",
   "execution_count": 120,
   "id": "7e29f5e1",
   "metadata": {},
   "outputs": [
    {
     "data": {
      "text/plain": [
       "<AxesSubplot:xlabel='Sport'>"
      ]
     },
     "execution_count": 120,
     "metadata": {},
     "output_type": "execute_result"
    },
    {
     "data": {
      "image/png": "[encoded data removed]",
      "text/plain": [
       "<Figure size 720x360 with 1 Axes>"
      ]
     },
     "metadata": {
      "needs_background": "light"
     },
     "output_type": "display_data"
    }
   ],
   "source": [
    "pd.DataFrame(list1,columns=['Sport','Medals']).sort_values(by='Medals',ascending=False).head().plot(x='Sport',y='Medals',\n",
    "                                                                                                kind='bar',figsize=(10,5))\n",
    "#Coverting list to dataframe,naming the two columns as 'Sport' and 'Medals',sorting based on number of Medals in the\n",
    "#descending order,considering only top five data,plotting as bar graph containing 'Sport' in x-axis and 'Medals' in y-axis\n",
    "#by mentioning figure size(can be changed)"
   ]
  },
  {
   "cell_type": "markdown",
   "id": "a322aa8b",
   "metadata": {},
   "source": [
    "### 4. Which player has won most number of medals? (Top 5)"
   ]
  },
  {
   "cell_type": "code",
   "execution_count": 122,
   "id": "be7c8b4f",
   "metadata": {},
   "outputs": [
    {
     "data": {
      "text/plain": [
       "<AxesSubplot:xlabel='Player'>"
      ]
     },
     "execution_count": 122,
     "metadata": {},
     "output_type": "execute_result"
    },
    {
     "data": {
      "image/png": "[encoded data removed]",
      "text/plain": [
       "<Figure size 720x360 with 1 Axes>"
      ]
     },
     "metadata": {
      "needs_background": "light"
     },
     "output_type": "display_data"
    }
   ],
   "source": [
    "list1=[]\n",
    "for Athlete in df['Athlete'].unique():              #Getting unique Athlete name for every iteration in the 'Athlete' column \n",
    "    newdf=df[df['Athlete']==Athlete]                #Creating new data frame having only one Athlete coming in every iteration\n",
    "    list1.append([Athlete,len(newdf['Medal'])])   #Appending Athlete and number of medals for that particular Athlete to the list1\n",
    "pd.DataFrame(list1,columns=['Player','Medals']).sort_values(by='Medals',ascending=False).head().plot(x='Player',y='Medals',\n",
    "                                                                                                kind='bar',figsize=(10,5))\n",
    "#Coverting list to dataframe,naming the two columns as 'Player' and 'Medals',sorting based on number of Medals in the\n",
    "#descending order,considering only top five data,plotting as bar graph containing 'Player' in x-axis and 'Medals' in y-axis\n",
    "#by mentioning figure size(can be changed)"
   ]
  },
  {
   "cell_type": "markdown",
   "id": "327d6c05",
   "metadata": {},
   "source": [
    "### 5. Which player has won most number Gold Medals of medals? (Top 5)"
   ]
  },
  {
   "cell_type": "code",
   "execution_count": 123,
   "id": "884bc4c6",
   "metadata": {},
   "outputs": [
    {
     "data": {
      "text/plain": [
       "<AxesSubplot:xlabel='Player'>"
      ]
     },
     "execution_count": 123,
     "metadata": {},
     "output_type": "execute_result"
    },
    {
     "data": {
      "image/png": "[encoded data removed]",
      "text/plain": [
       "<Figure size 720x360 with 1 Axes>"
      ]
     },
     "metadata": {
      "needs_background": "light"
     },
     "output_type": "display_data"
    }
   ],
   "source": [
    "list1=[]\n",
    "for Athlete in df['Athlete'].unique():      #Getting unique Athlete name for every iteration in the 'Athlete' column \n",
    "    newdf=df[df['Athlete']==Athlete]        #Creating new data frame having only one Athlete coming in every iteration\n",
    "    list1.append([Athlete,len(newdf[newdf['Medal']=='Gold'])])#Appending each athlete and number of gold medals he won to list1\n",
    "pd.DataFrame(list1,columns=['Player','Gold Medals']).sort_values(by='Gold Medals',ascending=False).head().plot(x= 'Player',\n",
    "                                                                                    y= 'Gold Medals',kind='bar',figsize=(10,5))\n",
    "#Coverting list to dataframe,naming the two columns as 'Player' and 'Gold Medals',sorting based on number of Gold Medals in the\n",
    "#descending order,considering only top five data,plotting as bar graph containing 'Player' in x-axis and 'Gold Medals' in y-axis\n",
    "#by mentioning figure size(can be changed)"
   ]
  },
  {
   "cell_type": "markdown",
   "id": "29d2f47b",
   "metadata": {},
   "source": [
    "### 6. In which year India won first Gold Medal in Summer Olympics?"
   ]
  },
  {
   "cell_type": "code",
   "execution_count": 124,
   "id": "76111c03",
   "metadata": {},
   "outputs": [
    {
     "name": "stdout",
     "output_type": "stream",
     "text": [
      "In 1928 year India won first Gold Medal in Summer Olympics\n"
     ]
    }
   ],
   "source": [
    "list1=[]\n",
    "for Country in df['Country'].unique():           #Getting unique Country name for every iteration in the 'Country' column\n",
    "    if Country=='IND':                           #Checking the  unique iterating country is india or not\n",
    "        newdf=df[df['Country']==Country]         #Creating new data frame consisting only India in the 'Country' column\n",
    "        newdf2=newdf[newdf['Medal']=='Gold']#Creating anothor data frame from previous data frame containing Gold in 'Medal' column\n",
    "for a in newdf2['Year'].unique():           #Getting unique Year from recent data drame to iterate using a\n",
    "    list1.append(a)                         #Appending each unique Year to the list1\n",
    "list1.sort()                                #Sorting the list1 in the ascending order\n",
    "print(\"In {0} year India won first Gold Medal in Summer Olympics\".format(list1[0]))#printing in which year India won first -\n",
    "#Gold Medal in Summer Olympics using list indexing"
   ]
  },
  {
   "cell_type": "markdown",
   "id": "1c387a08",
   "metadata": {},
   "source": [
    "### 7. Which event is most popular in terms on number of players? (Top 5)"
   ]
  },
  {
   "cell_type": "code",
   "execution_count": 125,
   "id": "8661df83",
   "metadata": {},
   "outputs": [
    {
     "data": {
      "text/plain": [
       "<AxesSubplot:xlabel='Event'>"
      ]
     },
     "execution_count": 125,
     "metadata": {},
     "output_type": "execute_result"
    },
    {
     "data": {
      "image/png": "[encoded data removed]",
      "text/plain": [
       "<Figure size 720x360 with 1 Axes>"
      ]
     },
     "metadata": {
      "needs_background": "light"
     },
     "output_type": "display_data"
    }
   ],
   "source": [
    "list1=[]\n",
    "for Event in df['Event'].unique():              #Getting unique Event name for every iteration in the 'Event' column\n",
    "    list1.append([Event , len(df[df['Event']  == Event])])#Appending Event and number of players playing that event\n",
    "pd.DataFrame(list1,columns=['Event','Players']).sort_values(by='Players',ascending=False).head().plot(x='Event',y='Players',\n",
    "                                                                                                    kind='bar',figsize=(10,5))\n",
    "#Coverting list to dataframe,naming the two columns as 'Event' and 'Players',sorting based on number of Players in the\n",
    "#descending order,considering only top five data,plotting as bar graph containing 'Event' in x-axis and 'Players' in y-axis\n",
    "#by mentioning figure size(can be changed)"
   ]
  },
  {
   "cell_type": "markdown",
   "id": "2a68c99d",
   "metadata": {},
   "source": [
    "### 8. Which sport is having most female Gold Medalists? (Top 5)"
   ]
  },
  {
   "cell_type": "code",
   "execution_count": 126,
   "id": "845950aa",
   "metadata": {},
   "outputs": [
    {
     "data": {
      "text/plain": [
       "<AxesSubplot:xlabel='Sport'>"
      ]
     },
     "execution_count": 126,
     "metadata": {},
     "output_type": "execute_result"
    },
    {
     "data": {
      "image/png": "[encoded data removed]",
      "text/plain": [
       "<Figure size 720x360 with 1 Axes>"
      ]
     },
     "metadata": {
      "needs_background": "light"
     },
     "output_type": "display_data"
    }
   ],
   "source": [
    "list1=[]\n",
    "for Gender in df['Gender'].unique():                      #Getting unique Event name for every iteration in the 'Event' column\n",
    "    if Gender =='Women':                                  #Checking the received Gender from for loop is Women or not\n",
    "        newdf=df[df['Gender']==Gender]                #Creating new data frame containing only Women in the 'Gender' column    \n",
    "        newdf2=newdf[newdf['Medal']=='Gold']          #Creating another data frame containing only Gold in the 'Medal' column\n",
    "for b in newdf2['Sport'].unique():                    #Getting unique Sport from recent data drame to iterate using b\n",
    "    newdf3=df[df['Sport'] == b]                       #Creating new data frame having only one Sport coming in every iteration\n",
    "    list1.append([b, len(df[df['Sport']  == b])])     #Appending Sport and how many are playing that sport to the list1\n",
    "pd.DataFrame(list1,columns=['Sport','Female Gold Medalists']).sort_values(by='Female Gold Medalists',ascending=False).head().plot(\n",
    "                                                                 x='Sport',y='Female Gold Medalists',kind='bar',figsize=(10,5))\n",
    "#Coverting list to dataframe,naming the two columns as 'Sport' and 'Female Gold Medalists',sorting based on number of Female -\n",
    "#Gold Medalists in the descending order,considering only top five data,plotting as bar graph containing 'Sport' in x-axis \n",
    "#and 'Female Gold Medalists' in y-axis by mentioning figure size(can be changed)\n",
    "\n",
    "\n",
    "    "
   ]
  },
  {
   "cell_type": "code",
   "execution_count": null,
   "id": "a40e37f6",
   "metadata": {},
   "outputs": [],
   "source": []
  }
 ],
 "metadata": {
  "kernelspec": {
   "display_name": "Python 3",
   "language": "python",
   "name": "python3"
  },
  "language_info": {
   "codemirror_mode": {
    "name": "ipython",
    "version": 3
   },
   "file_extension": ".py",
   "mimetype": "text/x-python",
   "name": "python",
   "nbconvert_exporter": "python",
   "pygments_lexer": "ipython3",
   "version": "3.8.8"
  }
 },
 "nbformat": 4,
 "nbformat_minor": 5
}
